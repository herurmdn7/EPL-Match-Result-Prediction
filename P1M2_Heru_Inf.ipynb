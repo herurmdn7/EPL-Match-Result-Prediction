{
 "cells": [
  {
   "cell_type": "markdown",
   "metadata": {},
   "source": [
    "# Import Libraries"
   ]
  },
  {
   "cell_type": "code",
   "execution_count": 34,
   "metadata": {},
   "outputs": [],
   "source": [
    "# dataframe libraries\n",
    "import pandas as pd\n",
    "import numpy as np\n",
    "\n",
    "# model load\n",
    "import pickle"
   ]
  },
  {
   "cell_type": "markdown",
   "metadata": {},
   "source": [
    "# Imput Data Inference"
   ]
  },
  {
   "cell_type": "markdown",
   "metadata": {},
   "source": [
    "Menambahkan data inference sebagai data uji, dimana data yg diuji berisi data yang belum pernah dilihat oleh model"
   ]
  },
  {
   "cell_type": "code",
   "execution_count": 35,
   "metadata": {},
   "outputs": [],
   "source": [
    "\n",
    "# Original data dictionary\n",
    "data = {\n",
    "    'HomeTeam': ['Charlton', 'Chelsea', 'Coventry', 'Derby', 'Leeds'],\n",
    "    'AwayTeam': ['Man City', 'West Ham', 'Middlesbrough', 'Southampton', 'Everton'],\n",
    "    'FTHG': [4, 4, 1, 2, 2],\n",
    "    'FTAG': [0, 2, 3, 2, 0],\n",
    "    'HTHG': [2.0, 1.0, 1.0, 1.0, 2.0],\n",
    "    'HTAG': [0.0, 0.0, 1.0, 2.0, 0.0],\n",
    "    'HTR': ['H', 'H', 'D', 'A', 'H'],\n",
    "    'HS': [17.0, 17.0, 6.0, 6.0, 17.0],\n",
    "    'AS': [8.0, 12.0, 16.0, 13.0, 12.0],\n",
    "    'HST': [14.0, 10.0, 3.0, 4.0, 8.0],\n",
    "    'AST': [4.0, 5.0, 9.0, 6.0, 6.0],\n",
    "    'HC': [6.0, 7.0, 8.0, 5.0, 6.0],\n",
    "    'AC': [6.0, 7.0, 4.0, 8.0, 4.0],\n",
    "    'HF': [13.0, 19.0, 15.0, 11.0, 21.0],\n",
    "    'AF': [12.0, 14.0, 21.0, 13.0, 20.0],\n",
    "    'HY': [1.0, 1.0, 5.0, 1.0, 1.0],\n",
    "    'AY': [2.0, 2.0, 3.0, 1.0, 3.0],\n",
    "    'HR': [0.0, 0.0, 1.0, 0.0, 0.0],\n",
    "    'AR': [0.0, 0.0, 0.0, 0.0, 0.0]\n",
    "}\n",
    "\n",
    "# Create DataFrame\n",
    "data = pd.DataFrame(data)\n"
   ]
  },
  {
   "cell_type": "code",
   "execution_count": 36,
   "metadata": {},
   "outputs": [
    {
     "data": {
      "text/html": [
       "<div>\n",
       "<style scoped>\n",
       "    .dataframe tbody tr th:only-of-type {\n",
       "        vertical-align: middle;\n",
       "    }\n",
       "\n",
       "    .dataframe tbody tr th {\n",
       "        vertical-align: top;\n",
       "    }\n",
       "\n",
       "    .dataframe thead th {\n",
       "        text-align: right;\n",
       "    }\n",
       "</style>\n",
       "<table border=\"1\" class=\"dataframe\">\n",
       "  <thead>\n",
       "    <tr style=\"text-align: right;\">\n",
       "      <th></th>\n",
       "      <th>HomeTeam</th>\n",
       "      <th>AwayTeam</th>\n",
       "      <th>FTHG</th>\n",
       "      <th>FTAG</th>\n",
       "      <th>HTHG</th>\n",
       "      <th>HTAG</th>\n",
       "      <th>HTR</th>\n",
       "      <th>HS</th>\n",
       "      <th>AS</th>\n",
       "      <th>HST</th>\n",
       "      <th>AST</th>\n",
       "      <th>HC</th>\n",
       "      <th>AC</th>\n",
       "      <th>HF</th>\n",
       "      <th>AF</th>\n",
       "      <th>HY</th>\n",
       "      <th>AY</th>\n",
       "      <th>HR</th>\n",
       "      <th>AR</th>\n",
       "    </tr>\n",
       "  </thead>\n",
       "  <tbody>\n",
       "    <tr>\n",
       "      <th>0</th>\n",
       "      <td>Chelsea</td>\n",
       "      <td>West Ham</td>\n",
       "      <td>4</td>\n",
       "      <td>2</td>\n",
       "      <td>1.0</td>\n",
       "      <td>0.0</td>\n",
       "      <td>H</td>\n",
       "      <td>17.0</td>\n",
       "      <td>12.0</td>\n",
       "      <td>10.0</td>\n",
       "      <td>5.0</td>\n",
       "      <td>7.0</td>\n",
       "      <td>7.0</td>\n",
       "      <td>19.0</td>\n",
       "      <td>14.0</td>\n",
       "      <td>1.0</td>\n",
       "      <td>2.0</td>\n",
       "      <td>0.0</td>\n",
       "      <td>0.0</td>\n",
       "    </tr>\n",
       "    <tr>\n",
       "      <th>1</th>\n",
       "      <td>Coventry</td>\n",
       "      <td>Middlesbrough</td>\n",
       "      <td>1</td>\n",
       "      <td>3</td>\n",
       "      <td>1.0</td>\n",
       "      <td>1.0</td>\n",
       "      <td>D</td>\n",
       "      <td>6.0</td>\n",
       "      <td>16.0</td>\n",
       "      <td>3.0</td>\n",
       "      <td>9.0</td>\n",
       "      <td>8.0</td>\n",
       "      <td>4.0</td>\n",
       "      <td>15.0</td>\n",
       "      <td>21.0</td>\n",
       "      <td>5.0</td>\n",
       "      <td>3.0</td>\n",
       "      <td>1.0</td>\n",
       "      <td>0.0</td>\n",
       "    </tr>\n",
       "    <tr>\n",
       "      <th>2</th>\n",
       "      <td>Leeds</td>\n",
       "      <td>Everton</td>\n",
       "      <td>2</td>\n",
       "      <td>0</td>\n",
       "      <td>2.0</td>\n",
       "      <td>0.0</td>\n",
       "      <td>H</td>\n",
       "      <td>17.0</td>\n",
       "      <td>12.0</td>\n",
       "      <td>8.0</td>\n",
       "      <td>6.0</td>\n",
       "      <td>6.0</td>\n",
       "      <td>4.0</td>\n",
       "      <td>21.0</td>\n",
       "      <td>20.0</td>\n",
       "      <td>1.0</td>\n",
       "      <td>3.0</td>\n",
       "      <td>0.0</td>\n",
       "      <td>0.0</td>\n",
       "    </tr>\n",
       "    <tr>\n",
       "      <th>3</th>\n",
       "      <td>Derby</td>\n",
       "      <td>Southampton</td>\n",
       "      <td>2</td>\n",
       "      <td>2</td>\n",
       "      <td>1.0</td>\n",
       "      <td>2.0</td>\n",
       "      <td>A</td>\n",
       "      <td>6.0</td>\n",
       "      <td>13.0</td>\n",
       "      <td>4.0</td>\n",
       "      <td>6.0</td>\n",
       "      <td>5.0</td>\n",
       "      <td>8.0</td>\n",
       "      <td>11.0</td>\n",
       "      <td>13.0</td>\n",
       "      <td>1.0</td>\n",
       "      <td>1.0</td>\n",
       "      <td>0.0</td>\n",
       "      <td>0.0</td>\n",
       "    </tr>\n",
       "    <tr>\n",
       "      <th>4</th>\n",
       "      <td>Charlton</td>\n",
       "      <td>Man City</td>\n",
       "      <td>4</td>\n",
       "      <td>0</td>\n",
       "      <td>2.0</td>\n",
       "      <td>0.0</td>\n",
       "      <td>H</td>\n",
       "      <td>17.0</td>\n",
       "      <td>8.0</td>\n",
       "      <td>14.0</td>\n",
       "      <td>4.0</td>\n",
       "      <td>6.0</td>\n",
       "      <td>6.0</td>\n",
       "      <td>13.0</td>\n",
       "      <td>12.0</td>\n",
       "      <td>1.0</td>\n",
       "      <td>2.0</td>\n",
       "      <td>0.0</td>\n",
       "      <td>0.0</td>\n",
       "    </tr>\n",
       "  </tbody>\n",
       "</table>\n",
       "</div>"
      ],
      "text/plain": [
       "   HomeTeam       AwayTeam  FTHG  FTAG  HTHG  HTAG HTR    HS    AS   HST  AST  \\\n",
       "0   Chelsea       West Ham     4     2   1.0   0.0   H  17.0  12.0  10.0  5.0   \n",
       "1  Coventry  Middlesbrough     1     3   1.0   1.0   D   6.0  16.0   3.0  9.0   \n",
       "2     Leeds        Everton     2     0   2.0   0.0   H  17.0  12.0   8.0  6.0   \n",
       "3     Derby    Southampton     2     2   1.0   2.0   A   6.0  13.0   4.0  6.0   \n",
       "4  Charlton       Man City     4     0   2.0   0.0   H  17.0   8.0  14.0  4.0   \n",
       "\n",
       "    HC   AC    HF    AF   HY   AY   HR   AR  \n",
       "0  7.0  7.0  19.0  14.0  1.0  2.0  0.0  0.0  \n",
       "1  8.0  4.0  15.0  21.0  5.0  3.0  1.0  0.0  \n",
       "2  6.0  4.0  21.0  20.0  1.0  3.0  0.0  0.0  \n",
       "3  5.0  8.0  11.0  13.0  1.0  1.0  0.0  0.0  \n",
       "4  6.0  6.0  13.0  12.0  1.0  2.0  0.0  0.0  "
      ]
     },
     "metadata": {},
     "output_type": "display_data"
    }
   ],
   "source": [
    "# Randomize the DataFrame\n",
    "df_randomized = data.sample(frac=1, random_state=41).reset_index(drop=True)\n",
    "\n",
    "# Display the randomized DataFrame\n",
    "display(df_randomized)\n"
   ]
  },
  {
   "cell_type": "markdown",
   "metadata": {},
   "source": [
    "# Model Loading"
   ]
  },
  {
   "cell_type": "code",
   "execution_count": 37,
   "metadata": {},
   "outputs": [],
   "source": [
    "# load model\n",
    "with open('model.pkl', 'rb') as file:\n",
    "    model = pickle.load(file)"
   ]
  },
  {
   "cell_type": "markdown",
   "metadata": {},
   "source": [
    "# Prediction"
   ]
  },
  {
   "cell_type": "markdown",
   "metadata": {},
   "source": [
    "### Prediction Match Result"
   ]
  },
  {
   "cell_type": "code",
   "execution_count": 38,
   "metadata": {},
   "outputs": [
    {
     "name": "stdout",
     "output_type": "stream",
     "text": [
      "[0 1 0 2 0]\n"
     ]
    }
   ],
   "source": [
    "# predict\n",
    "predictions = model.predict(df_randomized)\n",
    "print(predictions)"
   ]
  },
  {
   "cell_type": "markdown",
   "metadata": {},
   "source": [
    "**Model Memprediksi:**\n",
    "- Prediksi Match pertama adalah Home Win\n",
    "- Prediksi match kedua adalah Away Win\n",
    "- Prediksi Match ketiga adalah Home win\n",
    "- Prediksi match keempat adalah Draw\n",
    "- Prediksi match kelimat adalah Home win"
   ]
  },
  {
   "cell_type": "markdown",
   "metadata": {},
   "source": [
    "### Prediction Odds for Match "
   ]
  },
  {
   "cell_type": "markdown",
   "metadata": {},
   "source": [
    "menggunakan predict_proba untuk mengeluarkan probabilitas terpilihnya kelas tersebut untuk menjadikan nilai probabilitas sebagai nilai dasar odds yang akan digunakan oleh agen taruhan atau betting agencies."
   ]
  },
  {
   "cell_type": "code",
   "execution_count": 39,
   "metadata": {},
   "outputs": [
    {
     "name": "stdout",
     "output_type": "stream",
     "text": [
      "[[1.00 0.00 0.00]\n",
      " [0.00 1.00 0.00]\n",
      " [1.00 0.00 0.00]\n",
      " [0.00 0.00 1.00]\n",
      " [1.00 0.00 0.00]]\n"
     ]
    }
   ],
   "source": [
    "# predict\n",
    "pred = model.predict_proba(df_randomized)\n",
    "print(pred)"
   ]
  },
  {
   "cell_type": "code",
   "execution_count": 42,
   "metadata": {},
   "outputs": [
    {
     "name": "stdout",
     "output_type": "stream",
     "text": [
      "pred:\n",
      " [[1.00 0.00 0.00]\n",
      " [0.00 1.00 0.00]\n",
      " [1.00 0.00 0.00]\n",
      " [0.00 0.00 1.00]\n",
      " [1.00 0.00 0.00]]\n",
      "Betting Odds:\n",
      " [[1.00 5.00 5.00]\n",
      " [5.00 1.00 5.00]\n",
      " [1.00 5.00 5.00]\n",
      " [5.00 5.00 1.00]\n",
      " [1.00 5.00 5.00]]\n",
      "Betting Odds Normalized:\n"
     ]
    },
    {
     "data": {
      "text/html": [
       "<div>\n",
       "<style scoped>\n",
       "    .dataframe tbody tr th:only-of-type {\n",
       "        vertical-align: middle;\n",
       "    }\n",
       "\n",
       "    .dataframe tbody tr th {\n",
       "        vertical-align: top;\n",
       "    }\n",
       "\n",
       "    .dataframe thead th {\n",
       "        text-align: right;\n",
       "    }\n",
       "</style>\n",
       "<table border=\"1\" class=\"dataframe\">\n",
       "  <thead>\n",
       "    <tr style=\"text-align: right;\">\n",
       "      <th></th>\n",
       "      <th>0</th>\n",
       "      <th>1</th>\n",
       "      <th>2</th>\n",
       "    </tr>\n",
       "  </thead>\n",
       "  <tbody>\n",
       "    <tr>\n",
       "      <th>0</th>\n",
       "      <td>0.87</td>\n",
       "      <td>5.45</td>\n",
       "      <td>5.23</td>\n",
       "    </tr>\n",
       "    <tr>\n",
       "      <th>1</th>\n",
       "      <td>5.10</td>\n",
       "      <td>0.66</td>\n",
       "      <td>4.66</td>\n",
       "    </tr>\n",
       "    <tr>\n",
       "      <th>2</th>\n",
       "      <td>0.56</td>\n",
       "      <td>5.37</td>\n",
       "      <td>5.10</td>\n",
       "    </tr>\n",
       "    <tr>\n",
       "      <th>3</th>\n",
       "      <td>5.21</td>\n",
       "      <td>4.52</td>\n",
       "      <td>1.47</td>\n",
       "    </tr>\n",
       "    <tr>\n",
       "      <th>4</th>\n",
       "      <td>1.33</td>\n",
       "      <td>4.71</td>\n",
       "      <td>4.68</td>\n",
       "    </tr>\n",
       "  </tbody>\n",
       "</table>\n",
       "</div>"
      ],
      "text/plain": [
       "      0     1     2\n",
       "0  0.87  5.45  5.23\n",
       "1  5.10  0.66  4.66\n",
       "2  0.56  5.37  5.10\n",
       "3  5.21  4.52  1.47\n",
       "4  1.33  4.71  4.68"
      ]
     },
     "metadata": {},
     "output_type": "display_data"
    }
   ],
   "source": [
    "# Convert probabilities to betting odds\n",
    "# Avoid division by zero \n",
    "epsilon = 1e-10\n",
    "betting_odds = 1 / (pred + epsilon)\n",
    "\n",
    "# Cap the maximum odds \n",
    "max_odds = 5  \n",
    "betting_odds = np.clip(betting_odds, 0, max_odds)\n",
    "\n",
    "# better readability\n",
    "np.set_printoptions(suppress=True, formatter={'float_kind': '{:0.2f}'.format})\n",
    "\n",
    "# Print the pred and the calculated betting odds\n",
    "print(\"pred:\\n\", pred)\n",
    "print(\"Betting Odds:\\n\", betting_odds)\n",
    "\n",
    "# Set the random seed for reproducibility\n",
    "np.random.seed(42)\n",
    "\n",
    "# Adding decimal variation\n",
    "odds_normalized = betting_odds + np.random.uniform(-0.50, 0.50, betting_odds.shape)\n",
    "odds_normalized = np.round(odds_normalized, 2)\n",
    "\n",
    "print(\"Betting Odds Normalized:\")\n",
    "odds_normalized1 = pd.DataFrame(odds_normalized)\n",
    "display(odds_normalized1)"
   ]
  },
  {
   "cell_type": "markdown",
   "metadata": {},
   "source": [
    "Maka odds dasar yang akan digunakan untuk betting adalah:\n",
    "- Match 1\n",
    "  - Home Win = 0.87\n",
    "  - Away Win = 5.45\n",
    "  - Draw = 5.23\n",
    "- Match 2\n",
    "  - Home Win = 5.10\n",
    "  - Away Win = 0.66\n",
    "  - Draw = 4.66\n",
    "- Match 3\n",
    "  - Home Win = 0.56\n",
    "  - Away Win = 5.37\n",
    "  - Draw = 5.10\n",
    "- Match 4\n",
    "  - Home Win = 5.21\n",
    "  - Away Win = 4.52\n",
    "  - Draw = 1.47\n",
    "- Match 5\n",
    "  - Home Win = 1.33\n",
    "  - Away Win = 4.71\n",
    "  - Draw = 4.68"
   ]
  },
  {
   "cell_type": "markdown",
   "metadata": {},
   "source": [
    "Odds ini merupakan odds basic atau batas default sebuah odds sebelum diubah, maka betting agencies diperlukan untuk mengatur margin odds agar menghasilkan profitabilitas."
   ]
  }
 ],
 "metadata": {
  "kernelspec": {
   "display_name": "phase1",
   "language": "python",
   "name": "python3"
  },
  "language_info": {
   "codemirror_mode": {
    "name": "ipython",
    "version": 3
   },
   "file_extension": ".py",
   "mimetype": "text/x-python",
   "name": "python",
   "nbconvert_exporter": "python",
   "pygments_lexer": "ipython3",
   "version": "3.10.14"
  }
 },
 "nbformat": 4,
 "nbformat_minor": 2
}
